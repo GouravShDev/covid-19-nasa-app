{
 "cells": [
  {
   "cell_type": "code",
   "execution_count": 4,
   "metadata": {
    "execution": {
     "iopub.execute_input": "2021-10-03T13:59:42.864386Z",
     "iopub.status.busy": "2021-10-03T13:59:42.863962Z",
     "iopub.status.idle": "2021-10-03T13:59:44.567717Z",
     "shell.execute_reply": "2021-10-03T13:59:44.566536Z",
     "shell.execute_reply.started": "2021-10-03T13:59:42.864271Z"
    }
   },
   "outputs": [
    {
     "ename": "ModuleNotFoundError",
     "evalue": "No module named 'geopandas'",
     "output_type": "error",
     "traceback": [
      "\u001b[1;31m---------------------------------------------------------------------------\u001b[0m",
      "\u001b[1;31mModuleNotFoundError\u001b[0m                       Traceback (most recent call last)",
      "\u001b[1;32m<ipython-input-4-c554cc238bf4>\u001b[0m in \u001b[0;36m<module>\u001b[1;34m\u001b[0m\n\u001b[0;32m      3\u001b[0m \u001b[1;32mfrom\u001b[0m \u001b[0mscipy\u001b[0m\u001b[1;33m.\u001b[0m\u001b[0mstats\u001b[0m \u001b[1;32mimport\u001b[0m \u001b[0mttest_ind\u001b[0m\u001b[1;33m\u001b[0m\u001b[1;33m\u001b[0m\u001b[0m\n\u001b[0;32m      4\u001b[0m \u001b[1;32mfrom\u001b[0m \u001b[0mstatsmodels\u001b[0m\u001b[1;33m.\u001b[0m\u001b[0mstats\u001b[0m\u001b[1;33m.\u001b[0m\u001b[0mproportion\u001b[0m \u001b[1;32mimport\u001b[0m \u001b[0mproportions_ztest\u001b[0m\u001b[1;33m\u001b[0m\u001b[1;33m\u001b[0m\u001b[0m\n\u001b[1;32m----> 5\u001b[1;33m \u001b[1;32mimport\u001b[0m \u001b[0mgeopandas\u001b[0m \u001b[1;32mas\u001b[0m \u001b[0mgpd\u001b[0m\u001b[1;33m\u001b[0m\u001b[1;33m\u001b[0m\u001b[0m\n\u001b[0m\u001b[0;32m      6\u001b[0m \u001b[1;32mimport\u001b[0m \u001b[0mmatplotlib\u001b[0m\u001b[1;33m.\u001b[0m\u001b[0mdates\u001b[0m \u001b[1;32mas\u001b[0m \u001b[0mmdates\u001b[0m\u001b[1;33m\u001b[0m\u001b[1;33m\u001b[0m\u001b[0m\n\u001b[0;32m      7\u001b[0m \u001b[1;32mfrom\u001b[0m \u001b[0mmatplotlib\u001b[0m\u001b[1;33m.\u001b[0m\u001b[0mdates\u001b[0m \u001b[1;32mimport\u001b[0m \u001b[0mDateFormatter\u001b[0m\u001b[1;33m\u001b[0m\u001b[1;33m\u001b[0m\u001b[0m\n",
      "\u001b[1;31mModuleNotFoundError\u001b[0m: No module named 'geopandas'"
     ]
    }
   ],
   "source": [
    "import numpy as np\n",
    "import pandas as pd\n",
    "from scipy.stats import ttest_ind\n",
    "from statsmodels.stats.proportion import proportions_ztest\n",
    "import geopandas as gpd\n",
    "import matplotlib.dates as mdates\n",
    "from matplotlib.dates import DateFormatter"
   ]
  },
  {
   "cell_type": "code",
   "execution_count": 3,
   "metadata": {
    "execution": {
     "iopub.execute_input": "2021-10-03T13:59:44.570648Z",
     "iopub.status.busy": "2021-10-03T13:59:44.570353Z",
     "iopub.status.idle": "2021-10-03T13:59:44.660498Z",
     "shell.execute_reply": "2021-10-03T13:59:44.659497Z",
     "shell.execute_reply.started": "2021-10-03T13:59:44.570619Z"
    }
   },
   "outputs": [
    {
     "ename": "FileNotFoundError",
     "evalue": "[Errno 2] No such file or directory: '../input/covid19-in-india/StatewiseTestingDetails.csv'",
     "output_type": "error",
     "traceback": [
      "\u001b[1;31m---------------------------------------------------------------------------\u001b[0m",
      "\u001b[1;31mFileNotFoundError\u001b[0m                         Traceback (most recent call last)",
      "\u001b[1;32m<ipython-input-3-8338f2738b4c>\u001b[0m in \u001b[0;36m<module>\u001b[1;34m\u001b[0m\n\u001b[1;32m----> 1\u001b[1;33m \u001b[0mstate_df\u001b[0m \u001b[1;33m=\u001b[0m \u001b[0mpd\u001b[0m\u001b[1;33m.\u001b[0m\u001b[0mread_csv\u001b[0m\u001b[1;33m(\u001b[0m\u001b[1;34m'../input/covid19-in-india/StatewiseTestingDetails.csv'\u001b[0m\u001b[1;33m)\u001b[0m\u001b[1;33m\u001b[0m\u001b[1;33m\u001b[0m\u001b[0m\n\u001b[0m\u001b[0;32m      2\u001b[0m \u001b[0mcountry_df\u001b[0m \u001b[1;33m=\u001b[0m \u001b[0mpd\u001b[0m\u001b[1;33m.\u001b[0m\u001b[0mread_csv\u001b[0m\u001b[1;33m(\u001b[0m\u001b[1;34m'../input/covid19-in-india/covid_19_india.csv'\u001b[0m\u001b[1;33m)\u001b[0m\u001b[1;33m\u001b[0m\u001b[1;33m\u001b[0m\u001b[0m\n",
      "\u001b[1;32mc:\\users\\gourav sharma\\appdata\\local\\programs\\python\\python39\\lib\\site-packages\\pandas\\io\\parsers.py\u001b[0m in \u001b[0;36mread_csv\u001b[1;34m(filepath_or_buffer, sep, delimiter, header, names, index_col, usecols, squeeze, prefix, mangle_dupe_cols, dtype, engine, converters, true_values, false_values, skipinitialspace, skiprows, skipfooter, nrows, na_values, keep_default_na, na_filter, verbose, skip_blank_lines, parse_dates, infer_datetime_format, keep_date_col, date_parser, dayfirst, cache_dates, iterator, chunksize, compression, thousands, decimal, lineterminator, quotechar, quoting, doublequote, escapechar, comment, encoding, dialect, error_bad_lines, warn_bad_lines, delim_whitespace, low_memory, memory_map, float_precision)\u001b[0m\n\u001b[0;32m    686\u001b[0m     )\n\u001b[0;32m    687\u001b[0m \u001b[1;33m\u001b[0m\u001b[0m\n\u001b[1;32m--> 688\u001b[1;33m     \u001b[1;32mreturn\u001b[0m \u001b[0m_read\u001b[0m\u001b[1;33m(\u001b[0m\u001b[0mfilepath_or_buffer\u001b[0m\u001b[1;33m,\u001b[0m \u001b[0mkwds\u001b[0m\u001b[1;33m)\u001b[0m\u001b[1;33m\u001b[0m\u001b[1;33m\u001b[0m\u001b[0m\n\u001b[0m\u001b[0;32m    689\u001b[0m \u001b[1;33m\u001b[0m\u001b[0m\n\u001b[0;32m    690\u001b[0m \u001b[1;33m\u001b[0m\u001b[0m\n",
      "\u001b[1;32mc:\\users\\gourav sharma\\appdata\\local\\programs\\python\\python39\\lib\\site-packages\\pandas\\io\\parsers.py\u001b[0m in \u001b[0;36m_read\u001b[1;34m(filepath_or_buffer, kwds)\u001b[0m\n\u001b[0;32m    452\u001b[0m \u001b[1;33m\u001b[0m\u001b[0m\n\u001b[0;32m    453\u001b[0m     \u001b[1;31m# Create the parser.\u001b[0m\u001b[1;33m\u001b[0m\u001b[1;33m\u001b[0m\u001b[1;33m\u001b[0m\u001b[0m\n\u001b[1;32m--> 454\u001b[1;33m     \u001b[0mparser\u001b[0m \u001b[1;33m=\u001b[0m \u001b[0mTextFileReader\u001b[0m\u001b[1;33m(\u001b[0m\u001b[0mfp_or_buf\u001b[0m\u001b[1;33m,\u001b[0m \u001b[1;33m**\u001b[0m\u001b[0mkwds\u001b[0m\u001b[1;33m)\u001b[0m\u001b[1;33m\u001b[0m\u001b[1;33m\u001b[0m\u001b[0m\n\u001b[0m\u001b[0;32m    455\u001b[0m \u001b[1;33m\u001b[0m\u001b[0m\n\u001b[0;32m    456\u001b[0m     \u001b[1;32mif\u001b[0m \u001b[0mchunksize\u001b[0m \u001b[1;32mor\u001b[0m \u001b[0miterator\u001b[0m\u001b[1;33m:\u001b[0m\u001b[1;33m\u001b[0m\u001b[1;33m\u001b[0m\u001b[0m\n",
      "\u001b[1;32mc:\\users\\gourav sharma\\appdata\\local\\programs\\python\\python39\\lib\\site-packages\\pandas\\io\\parsers.py\u001b[0m in \u001b[0;36m__init__\u001b[1;34m(self, f, engine, **kwds)\u001b[0m\n\u001b[0;32m    946\u001b[0m             \u001b[0mself\u001b[0m\u001b[1;33m.\u001b[0m\u001b[0moptions\u001b[0m\u001b[1;33m[\u001b[0m\u001b[1;34m\"has_index_names\"\u001b[0m\u001b[1;33m]\u001b[0m \u001b[1;33m=\u001b[0m \u001b[0mkwds\u001b[0m\u001b[1;33m[\u001b[0m\u001b[1;34m\"has_index_names\"\u001b[0m\u001b[1;33m]\u001b[0m\u001b[1;33m\u001b[0m\u001b[1;33m\u001b[0m\u001b[0m\n\u001b[0;32m    947\u001b[0m \u001b[1;33m\u001b[0m\u001b[0m\n\u001b[1;32m--> 948\u001b[1;33m         \u001b[0mself\u001b[0m\u001b[1;33m.\u001b[0m\u001b[0m_make_engine\u001b[0m\u001b[1;33m(\u001b[0m\u001b[0mself\u001b[0m\u001b[1;33m.\u001b[0m\u001b[0mengine\u001b[0m\u001b[1;33m)\u001b[0m\u001b[1;33m\u001b[0m\u001b[1;33m\u001b[0m\u001b[0m\n\u001b[0m\u001b[0;32m    949\u001b[0m \u001b[1;33m\u001b[0m\u001b[0m\n\u001b[0;32m    950\u001b[0m     \u001b[1;32mdef\u001b[0m \u001b[0mclose\u001b[0m\u001b[1;33m(\u001b[0m\u001b[0mself\u001b[0m\u001b[1;33m)\u001b[0m\u001b[1;33m:\u001b[0m\u001b[1;33m\u001b[0m\u001b[1;33m\u001b[0m\u001b[0m\n",
      "\u001b[1;32mc:\\users\\gourav sharma\\appdata\\local\\programs\\python\\python39\\lib\\site-packages\\pandas\\io\\parsers.py\u001b[0m in \u001b[0;36m_make_engine\u001b[1;34m(self, engine)\u001b[0m\n\u001b[0;32m   1178\u001b[0m     \u001b[1;32mdef\u001b[0m \u001b[0m_make_engine\u001b[0m\u001b[1;33m(\u001b[0m\u001b[0mself\u001b[0m\u001b[1;33m,\u001b[0m \u001b[0mengine\u001b[0m\u001b[1;33m=\u001b[0m\u001b[1;34m\"c\"\u001b[0m\u001b[1;33m)\u001b[0m\u001b[1;33m:\u001b[0m\u001b[1;33m\u001b[0m\u001b[1;33m\u001b[0m\u001b[0m\n\u001b[0;32m   1179\u001b[0m         \u001b[1;32mif\u001b[0m \u001b[0mengine\u001b[0m \u001b[1;33m==\u001b[0m \u001b[1;34m\"c\"\u001b[0m\u001b[1;33m:\u001b[0m\u001b[1;33m\u001b[0m\u001b[1;33m\u001b[0m\u001b[0m\n\u001b[1;32m-> 1180\u001b[1;33m             \u001b[0mself\u001b[0m\u001b[1;33m.\u001b[0m\u001b[0m_engine\u001b[0m \u001b[1;33m=\u001b[0m \u001b[0mCParserWrapper\u001b[0m\u001b[1;33m(\u001b[0m\u001b[0mself\u001b[0m\u001b[1;33m.\u001b[0m\u001b[0mf\u001b[0m\u001b[1;33m,\u001b[0m \u001b[1;33m**\u001b[0m\u001b[0mself\u001b[0m\u001b[1;33m.\u001b[0m\u001b[0moptions\u001b[0m\u001b[1;33m)\u001b[0m\u001b[1;33m\u001b[0m\u001b[1;33m\u001b[0m\u001b[0m\n\u001b[0m\u001b[0;32m   1181\u001b[0m         \u001b[1;32melse\u001b[0m\u001b[1;33m:\u001b[0m\u001b[1;33m\u001b[0m\u001b[1;33m\u001b[0m\u001b[0m\n\u001b[0;32m   1182\u001b[0m             \u001b[1;32mif\u001b[0m \u001b[0mengine\u001b[0m \u001b[1;33m==\u001b[0m \u001b[1;34m\"python\"\u001b[0m\u001b[1;33m:\u001b[0m\u001b[1;33m\u001b[0m\u001b[1;33m\u001b[0m\u001b[0m\n",
      "\u001b[1;32mc:\\users\\gourav sharma\\appdata\\local\\programs\\python\\python39\\lib\\site-packages\\pandas\\io\\parsers.py\u001b[0m in \u001b[0;36m__init__\u001b[1;34m(self, src, **kwds)\u001b[0m\n\u001b[0;32m   2008\u001b[0m         \u001b[0mkwds\u001b[0m\u001b[1;33m[\u001b[0m\u001b[1;34m\"usecols\"\u001b[0m\u001b[1;33m]\u001b[0m \u001b[1;33m=\u001b[0m \u001b[0mself\u001b[0m\u001b[1;33m.\u001b[0m\u001b[0musecols\u001b[0m\u001b[1;33m\u001b[0m\u001b[1;33m\u001b[0m\u001b[0m\n\u001b[0;32m   2009\u001b[0m \u001b[1;33m\u001b[0m\u001b[0m\n\u001b[1;32m-> 2010\u001b[1;33m         \u001b[0mself\u001b[0m\u001b[1;33m.\u001b[0m\u001b[0m_reader\u001b[0m \u001b[1;33m=\u001b[0m \u001b[0mparsers\u001b[0m\u001b[1;33m.\u001b[0m\u001b[0mTextReader\u001b[0m\u001b[1;33m(\u001b[0m\u001b[0msrc\u001b[0m\u001b[1;33m,\u001b[0m \u001b[1;33m**\u001b[0m\u001b[0mkwds\u001b[0m\u001b[1;33m)\u001b[0m\u001b[1;33m\u001b[0m\u001b[1;33m\u001b[0m\u001b[0m\n\u001b[0m\u001b[0;32m   2011\u001b[0m         \u001b[0mself\u001b[0m\u001b[1;33m.\u001b[0m\u001b[0munnamed_cols\u001b[0m \u001b[1;33m=\u001b[0m \u001b[0mself\u001b[0m\u001b[1;33m.\u001b[0m\u001b[0m_reader\u001b[0m\u001b[1;33m.\u001b[0m\u001b[0munnamed_cols\u001b[0m\u001b[1;33m\u001b[0m\u001b[1;33m\u001b[0m\u001b[0m\n\u001b[0;32m   2012\u001b[0m \u001b[1;33m\u001b[0m\u001b[0m\n",
      "\u001b[1;32mpandas\\_libs\\parsers.pyx\u001b[0m in \u001b[0;36mpandas._libs.parsers.TextReader.__cinit__\u001b[1;34m()\u001b[0m\n",
      "\u001b[1;32mpandas\\_libs\\parsers.pyx\u001b[0m in \u001b[0;36mpandas._libs.parsers.TextReader._setup_parser_source\u001b[1;34m()\u001b[0m\n",
      "\u001b[1;31mFileNotFoundError\u001b[0m: [Errno 2] No such file or directory: '../input/covid19-in-india/StatewiseTestingDetails.csv'"
     ]
    }
   ],
   "source": [
    "state_df = pd.read_csv('../input/covid19-in-india/StatewiseTestingDetails.csv')\n",
    "country_df = pd.read_csv('../input/covid19-in-india/covid_19_india.csv')"
   ]
  },
  {
   "cell_type": "code",
   "execution_count": null,
   "metadata": {
    "execution": {
     "iopub.execute_input": "2021-10-03T13:59:44.662732Z",
     "iopub.status.busy": "2021-10-03T13:59:44.662383Z",
     "iopub.status.idle": "2021-10-03T13:59:44.692723Z",
     "shell.execute_reply": "2021-10-03T13:59:44.691734Z",
     "shell.execute_reply.started": "2021-10-03T13:59:44.662701Z"
    }
   },
   "outputs": [],
   "source": [
    "state_df.head()"
   ]
  },
  {
   "cell_type": "code",
   "execution_count": null,
   "metadata": {
    "execution": {
     "iopub.execute_input": "2021-10-03T13:59:44.694577Z",
     "iopub.status.busy": "2021-10-03T13:59:44.694236Z",
     "iopub.status.idle": "2021-10-03T13:59:44.700463Z",
     "shell.execute_reply": "2021-10-03T13:59:44.699438Z",
     "shell.execute_reply.started": "2021-10-03T13:59:44.694545Z"
    }
   },
   "outputs": [],
   "source": [
    "#Copying the contry_df data to df for easy reference\n",
    "df=country_df.copy()"
   ]
  },
  {
   "cell_type": "code",
   "execution_count": null,
   "metadata": {
    "execution": {
     "iopub.execute_input": "2021-10-03T13:59:44.702377Z",
     "iopub.status.busy": "2021-10-03T13:59:44.702074Z",
     "iopub.status.idle": "2021-10-03T13:59:44.735830Z",
     "shell.execute_reply": "2021-10-03T13:59:44.734778Z",
     "shell.execute_reply.started": "2021-10-03T13:59:44.702347Z"
    }
   },
   "outputs": [],
   "source": [
    "#Keeping it simple, we will drop the rows with state name ending with \"***\" as it is seems to be rows with incomplete values.\n",
    "def drop_star(df):\n",
    "    for i in df['State/UnionTerritory'].iteritems():\n",
    "        if i[1][-3:] == \"***\":\n",
    "            df.drop(i[0],inplace=True)\n",
    "        \n",
    "drop_star(df)\n",
    "States=df['State/UnionTerritory'].unique()"
   ]
  },
  {
   "cell_type": "code",
   "execution_count": null,
   "metadata": {
    "execution": {
     "iopub.execute_input": "2021-10-03T13:59:44.737937Z",
     "iopub.status.busy": "2021-10-03T13:59:44.737506Z",
     "iopub.status.idle": "2021-10-03T13:59:44.754900Z",
     "shell.execute_reply": "2021-10-03T13:59:44.754012Z",
     "shell.execute_reply.started": "2021-10-03T13:59:44.737889Z"
    }
   },
   "outputs": [],
   "source": [
    "#lets convert the Date feature to Date&time datatype\n",
    "df['Date']=pd.to_datetime(df['Date'],format='%Y-%m-%d')\n",
    "\n",
    "#Time is not required as it doesnt make much difference\n",
    "df.drop(['Time'],axis=1, inplace=True)\n",
    "\n",
    "#Renaming State/UnionTerritory to States for easy reference\n",
    "df.rename(columns={'State/UnionTerritory':'States'}, inplace=True)"
   ]
  },
  {
   "cell_type": "code",
   "execution_count": null,
   "metadata": {
    "execution": {
     "iopub.execute_input": "2021-10-03T13:59:44.757095Z",
     "iopub.status.busy": "2021-10-03T13:59:44.756415Z",
     "iopub.status.idle": "2021-10-03T13:59:44.805801Z",
     "shell.execute_reply": "2021-10-03T13:59:44.804667Z",
     "shell.execute_reply.started": "2021-10-03T13:59:44.757040Z"
    }
   },
   "outputs": [],
   "source": [
    "df['Active_cases']=df['Confirmed']-(df['Cured']+df['Deaths'])\n",
    "df['Discharge_Rate'] = np.round((df['Cured']/df['Confirmed'])*100, decimals = 4)      # create instances for 'death_rate and discharge_rate'\n",
    "df['Death_Rate'] = np.round((df['Deaths']/df['Confirmed'])*100, decimals = 4)\n",
    "df.head()"
   ]
  },
  {
   "cell_type": "code",
   "execution_count": null,
   "metadata": {
    "execution": {
     "iopub.execute_input": "2021-10-03T13:59:44.808784Z",
     "iopub.status.busy": "2021-10-03T13:59:44.808140Z",
     "iopub.status.idle": "2021-10-03T13:59:44.815686Z",
     "shell.execute_reply": "2021-10-03T13:59:44.814781Z",
     "shell.execute_reply.started": "2021-10-03T13:59:44.808734Z"
    }
   },
   "outputs": [],
   "source": [
    "#Current date from the record\n",
    "current = df[df.Date == '2021-07-06']"
   ]
  },
  {
   "cell_type": "code",
   "execution_count": null,
   "metadata": {
    "execution": {
     "iopub.execute_input": "2021-10-03T13:59:44.817732Z",
     "iopub.status.busy": "2021-10-03T13:59:44.817208Z",
     "iopub.status.idle": "2021-10-03T13:59:44.840172Z",
     "shell.execute_reply": "2021-10-03T13:59:44.839511Z",
     "shell.execute_reply.started": "2021-10-03T13:59:44.817696Z"
    }
   },
   "outputs": [],
   "source": [
    "df.tail()"
   ]
  },
  {
   "cell_type": "code",
   "execution_count": null,
   "metadata": {
    "execution": {
     "iopub.execute_input": "2021-10-03T13:59:44.841694Z",
     "iopub.status.busy": "2021-10-03T13:59:44.841375Z",
     "iopub.status.idle": "2021-10-03T13:59:44.875271Z",
     "shell.execute_reply": "2021-10-03T13:59:44.874139Z",
     "shell.execute_reply.started": "2021-10-03T13:59:44.841666Z"
    }
   },
   "outputs": [],
   "source": [
    "df['Date']= pd.to_datetime(df['Date'])          # Date is converted to DateTime format.\n",
    "df.tail()"
   ]
  },
  {
   "cell_type": "code",
   "execution_count": null,
   "metadata": {
    "execution": {
     "iopub.execute_input": "2021-10-03T13:59:44.876917Z",
     "iopub.status.busy": "2021-10-03T13:59:44.876641Z",
     "iopub.status.idle": "2021-10-03T13:59:45.190612Z",
     "shell.execute_reply": "2021-10-03T13:59:45.189460Z",
     "shell.execute_reply.started": "2021-10-03T13:59:44.876888Z"
    }
   },
   "outputs": [],
   "source": [
    "from fbprophet import Prophet\n",
    "active = df.groupby(['States', 'Date']).sum()['Active_cases'].reset_index()\n",
    "active.tail()"
   ]
  },
  {
   "cell_type": "code",
   "execution_count": null,
   "metadata": {
    "execution": {
     "iopub.execute_input": "2021-10-03T13:59:45.192477Z",
     "iopub.status.busy": "2021-10-03T13:59:45.192064Z",
     "iopub.status.idle": "2021-10-03T13:59:45.326655Z",
     "shell.execute_reply": "2021-10-03T13:59:45.325748Z",
     "shell.execute_reply.started": "2021-10-03T13:59:45.192435Z"
    }
   },
   "outputs": [],
   "source": [
    "active.columns = ['States','ds', 'y']\n",
    "active['ds'] = pd.to_datetime(active['ds'])"
   ]
  },
  {
   "cell_type": "code",
   "execution_count": null,
   "metadata": {
    "execution": {
     "iopub.execute_input": "2021-10-03T13:59:45.328275Z",
     "iopub.status.busy": "2021-10-03T13:59:45.327809Z",
     "iopub.status.idle": "2021-10-03T13:59:45.409135Z",
     "shell.execute_reply": "2021-10-03T13:59:45.408350Z",
     "shell.execute_reply.started": "2021-10-03T13:59:45.328208Z"
    }
   },
   "outputs": [],
   "source": [
    "all_states = active['States'].unique()\n",
    "for state in all_states:\n",
    "    globals()[state] = active[active['States']==state]"
   ]
  },
  {
   "cell_type": "code",
   "execution_count": null,
   "metadata": {
    "execution": {
     "iopub.execute_input": "2021-10-03T13:59:45.410474Z",
     "iopub.status.busy": "2021-10-03T13:59:45.410084Z",
     "iopub.status.idle": "2021-10-03T14:00:03.546278Z",
     "shell.execute_reply": "2021-10-03T14:00:03.544996Z",
     "shell.execute_reply.started": "2021-10-03T13:59:45.410444Z"
    }
   },
   "outputs": [],
   "source": [
    "enter_state = input(\"Enter the State: \")\n",
    "enter_state"
   ]
  },
  {
   "cell_type": "code",
   "execution_count": null,
   "metadata": {
    "execution": {
     "iopub.execute_input": "2021-10-03T14:00:03.548446Z",
     "iopub.status.busy": "2021-10-03T14:00:03.548027Z",
     "iopub.status.idle": "2021-10-03T14:00:04.884311Z",
     "shell.execute_reply": "2021-10-03T14:00:04.883299Z",
     "shell.execute_reply.started": "2021-10-03T14:00:03.548404Z"
    }
   },
   "outputs": [],
   "source": [
    "m = Prophet(interval_width=0.95)\n",
    "m.fit(globals()[enter_state])\n",
    "future = m.make_future_dataframe(periods=53)       #Making future prediction for next 60 days\n",
    "future.tail(10)"
   ]
  },
  {
   "cell_type": "code",
   "execution_count": null,
   "metadata": {
    "execution": {
     "iopub.execute_input": "2021-10-03T14:00:04.885994Z",
     "iopub.status.busy": "2021-10-03T14:00:04.885706Z",
     "iopub.status.idle": "2021-10-03T14:00:06.890242Z",
     "shell.execute_reply": "2021-10-03T14:00:06.889244Z",
     "shell.execute_reply.started": "2021-10-03T14:00:04.885966Z"
    }
   },
   "outputs": [],
   "source": [
    "forecast = m.predict(future)\n",
    "forecast[['ds','yhat','yhat_lower','yhat_upper']].tail()"
   ]
  },
  {
   "cell_type": "code",
   "execution_count": null,
   "metadata": {
    "execution": {
     "iopub.execute_input": "2021-10-03T14:00:06.891872Z",
     "iopub.status.busy": "2021-10-03T14:00:06.891573Z",
     "iopub.status.idle": "2021-10-03T14:00:06.899804Z",
     "shell.execute_reply": "2021-10-03T14:00:06.898569Z",
     "shell.execute_reply.started": "2021-10-03T14:00:06.891840Z"
    }
   },
   "outputs": [],
   "source": [
    "last_active_pred = forecast[['yhat']].iloc[-1]\n",
    "last_active_pred=int(last_active_pred)\n",
    "print(\"Last active \", last_active_pred)"
   ]
  },
  {
   "cell_type": "code",
   "execution_count": null,
   "metadata": {
    "execution": {
     "iopub.execute_input": "2021-10-03T14:00:06.901952Z",
     "iopub.status.busy": "2021-10-03T14:00:06.901609Z",
     "iopub.status.idle": "2021-10-03T14:00:07.282503Z",
     "shell.execute_reply": "2021-10-03T14:00:07.281249Z",
     "shell.execute_reply.started": "2021-10-03T14:00:06.901891Z"
    }
   },
   "outputs": [],
   "source": [
    "active_forecast_plot = m.plot(forecast)"
   ]
  },
  {
   "cell_type": "markdown",
   "metadata": {},
   "source": [
    "# RISK CALCULATED"
   ]
  },
  {
   "cell_type": "code",
   "execution_count": null,
   "metadata": {
    "execution": {
     "iopub.execute_input": "2021-10-03T14:00:07.284680Z",
     "iopub.status.busy": "2021-10-03T14:00:07.284092Z",
     "iopub.status.idle": "2021-10-03T14:00:07.291745Z",
     "shell.execute_reply": "2021-10-03T14:00:07.290777Z",
     "shell.execute_reply.started": "2021-10-03T14:00:07.284635Z"
    }
   },
   "outputs": [],
   "source": [
    "risk=0\n",
    "globals()[f\"mean_{enter_state}\"] = np.mean(globals()[enter_state].y)\n",
    "if last_active_pred*0.3 < globals()[f\"mean_{enter_state}\"]:\n",
    "    risk=0\n",
    "elif last_active_pred*0.6 < globals()[f\"mean_{enter_state}\"]:\n",
    "    risk=1\n",
    "else :\n",
    "    risk=2"
   ]
  },
  {
   "cell_type": "code",
   "execution_count": null,
   "metadata": {
    "execution": {
     "iopub.execute_input": "2021-10-03T14:00:07.293683Z",
     "iopub.status.busy": "2021-10-03T14:00:07.293110Z",
     "iopub.status.idle": "2021-10-03T14:00:07.305706Z",
     "shell.execute_reply": "2021-10-03T14:00:07.304375Z",
     "shell.execute_reply.started": "2021-10-03T14:00:07.293639Z"
    }
   },
   "outputs": [],
   "source": [
    "risk"
   ]
  }
 ],
 "metadata": {
  "kernelspec": {
   "display_name": "Python 3",
   "language": "python",
   "name": "python3"
  },
  "language_info": {
   "codemirror_mode": {
    "name": "ipython",
    "version": 3
   },
   "file_extension": ".py",
   "mimetype": "text/x-python",
   "name": "python",
   "nbconvert_exporter": "python",
   "pygments_lexer": "ipython3",
   "version": "3.9.2"
  }
 },
 "nbformat": 4,
 "nbformat_minor": 4
}
