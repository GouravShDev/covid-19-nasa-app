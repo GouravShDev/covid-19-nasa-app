{
 "cells": [
  {
   "cell_type": "code",
   "execution_count": 2,
   "metadata": {
    "execution": {
     "iopub.execute_input": "2021-10-03T13:59:42.864386Z",
     "iopub.status.busy": "2021-10-03T13:59:42.863962Z",
     "iopub.status.idle": "2021-10-03T13:59:44.567717Z",
     "shell.execute_reply": "2021-10-03T13:59:44.566536Z",
     "shell.execute_reply.started": "2021-10-03T13:59:42.864271Z"
    }
   },
   "outputs": [],
   "source": [
    "import numpy as np\n",
    "import pandas as pd\n",
    "from scipy.stats import ttest_ind\n",
    "from statsmodels.stats.proportion import proportions_ztest\n",
    "# import geopandas as gpd\n",
    "import matplotlib.dates as mdates\n",
    "from matplotlib.dates import DateFormatter"
   ]
  },
  {
   "cell_type": "code",
   "execution_count": 3,
   "metadata": {
    "execution": {
     "iopub.execute_input": "2021-10-03T13:59:44.570648Z",
     "iopub.status.busy": "2021-10-03T13:59:44.570353Z",
     "iopub.status.idle": "2021-10-03T13:59:44.660498Z",
     "shell.execute_reply": "2021-10-03T13:59:44.659497Z",
     "shell.execute_reply.started": "2021-10-03T13:59:44.570619Z"
    }
   },
   "outputs": [],
   "source": [
    "state_df = pd.read_csv('./StatewiseTestingDetails.csv')\n",
    "country_df = pd.read_csv('./covid_19_india.csv')"
   ]
  },
  {
   "cell_type": "code",
   "execution_count": 4,
   "metadata": {
    "execution": {
     "iopub.execute_input": "2021-10-03T13:59:44.662732Z",
     "iopub.status.busy": "2021-10-03T13:59:44.662383Z",
     "iopub.status.idle": "2021-10-03T13:59:44.692723Z",
     "shell.execute_reply": "2021-10-03T13:59:44.691734Z",
     "shell.execute_reply.started": "2021-10-03T13:59:44.662701Z"
    }
   },
   "outputs": [
    {
     "data": {
      "text/html": [
       "<div>\n",
       "<style scoped>\n",
       "    .dataframe tbody tr th:only-of-type {\n",
       "        vertical-align: middle;\n",
       "    }\n",
       "\n",
       "    .dataframe tbody tr th {\n",
       "        vertical-align: top;\n",
       "    }\n",
       "\n",
       "    .dataframe thead th {\n",
       "        text-align: right;\n",
       "    }\n",
       "</style>\n",
       "<table border=\"1\" class=\"dataframe\">\n",
       "  <thead>\n",
       "    <tr style=\"text-align: right;\">\n",
       "      <th></th>\n",
       "      <th>Date</th>\n",
       "      <th>State</th>\n",
       "      <th>TotalSamples</th>\n",
       "      <th>Negative</th>\n",
       "      <th>Positive</th>\n",
       "    </tr>\n",
       "  </thead>\n",
       "  <tbody>\n",
       "    <tr>\n",
       "      <th>0</th>\n",
       "      <td>2020-04-17</td>\n",
       "      <td>Andaman and Nicobar Islands</td>\n",
       "      <td>1403.0</td>\n",
       "      <td>1210</td>\n",
       "      <td>12.0</td>\n",
       "    </tr>\n",
       "    <tr>\n",
       "      <th>1</th>\n",
       "      <td>2020-04-24</td>\n",
       "      <td>Andaman and Nicobar Islands</td>\n",
       "      <td>2679.0</td>\n",
       "      <td>NaN</td>\n",
       "      <td>27.0</td>\n",
       "    </tr>\n",
       "    <tr>\n",
       "      <th>2</th>\n",
       "      <td>2020-04-27</td>\n",
       "      <td>Andaman and Nicobar Islands</td>\n",
       "      <td>2848.0</td>\n",
       "      <td>NaN</td>\n",
       "      <td>33.0</td>\n",
       "    </tr>\n",
       "    <tr>\n",
       "      <th>3</th>\n",
       "      <td>2020-05-01</td>\n",
       "      <td>Andaman and Nicobar Islands</td>\n",
       "      <td>3754.0</td>\n",
       "      <td>NaN</td>\n",
       "      <td>33.0</td>\n",
       "    </tr>\n",
       "    <tr>\n",
       "      <th>4</th>\n",
       "      <td>2020-05-16</td>\n",
       "      <td>Andaman and Nicobar Islands</td>\n",
       "      <td>6677.0</td>\n",
       "      <td>NaN</td>\n",
       "      <td>33.0</td>\n",
       "    </tr>\n",
       "  </tbody>\n",
       "</table>\n",
       "</div>"
      ],
      "text/plain": [
       "         Date                        State  TotalSamples Negative  Positive\n",
       "0  2020-04-17  Andaman and Nicobar Islands        1403.0     1210      12.0\n",
       "1  2020-04-24  Andaman and Nicobar Islands        2679.0      NaN      27.0\n",
       "2  2020-04-27  Andaman and Nicobar Islands        2848.0      NaN      33.0\n",
       "3  2020-05-01  Andaman and Nicobar Islands        3754.0      NaN      33.0\n",
       "4  2020-05-16  Andaman and Nicobar Islands        6677.0      NaN      33.0"
      ]
     },
     "execution_count": 4,
     "metadata": {},
     "output_type": "execute_result"
    }
   ],
   "source": [
    "state_df.head()"
   ]
  },
  {
   "cell_type": "code",
   "execution_count": 5,
   "metadata": {
    "execution": {
     "iopub.execute_input": "2021-10-03T13:59:44.694577Z",
     "iopub.status.busy": "2021-10-03T13:59:44.694236Z",
     "iopub.status.idle": "2021-10-03T13:59:44.700463Z",
     "shell.execute_reply": "2021-10-03T13:59:44.699438Z",
     "shell.execute_reply.started": "2021-10-03T13:59:44.694545Z"
    }
   },
   "outputs": [],
   "source": [
    "#Copying the contry_df data to df for easy reference\n",
    "df=country_df.copy()"
   ]
  },
  {
   "cell_type": "code",
   "execution_count": 6,
   "metadata": {
    "execution": {
     "iopub.execute_input": "2021-10-03T13:59:44.702377Z",
     "iopub.status.busy": "2021-10-03T13:59:44.702074Z",
     "iopub.status.idle": "2021-10-03T13:59:44.735830Z",
     "shell.execute_reply": "2021-10-03T13:59:44.734778Z",
     "shell.execute_reply.started": "2021-10-03T13:59:44.702347Z"
    }
   },
   "outputs": [],
   "source": [
    "#Keeping it simple, we will drop the rows with state name ending with \"***\" as it is seems to be rows with incomplete values.\n",
    "def drop_star(df):\n",
    "    for i in df['State/UnionTerritory'].iteritems():\n",
    "        if i[1][-3:] == \"***\":\n",
    "            df.drop(i[0],inplace=True)\n",
    "        \n",
    "drop_star(df)\n",
    "States=df['State/UnionTerritory'].unique()"
   ]
  },
  {
   "cell_type": "code",
   "execution_count": 7,
   "metadata": {
    "execution": {
     "iopub.execute_input": "2021-10-03T13:59:44.737937Z",
     "iopub.status.busy": "2021-10-03T13:59:44.737506Z",
     "iopub.status.idle": "2021-10-03T13:59:44.754900Z",
     "shell.execute_reply": "2021-10-03T13:59:44.754012Z",
     "shell.execute_reply.started": "2021-10-03T13:59:44.737889Z"
    }
   },
   "outputs": [],
   "source": [
    "#lets convert the Date feature to Date&time datatype\n",
    "df['Date']=pd.to_datetime(df['Date'],format='%Y-%m-%d')\n",
    "\n",
    "#Time is not required as it doesnt make much difference\n",
    "df.drop(['Time'],axis=1, inplace=True)\n",
    "\n",
    "#Renaming State/UnionTerritory to States for easy reference\n",
    "df.rename(columns={'State/UnionTerritory':'States'}, inplace=True)"
   ]
  },
  {
   "cell_type": "code",
   "execution_count": 8,
   "metadata": {
    "execution": {
     "iopub.execute_input": "2021-10-03T13:59:44.757095Z",
     "iopub.status.busy": "2021-10-03T13:59:44.756415Z",
     "iopub.status.idle": "2021-10-03T13:59:44.805801Z",
     "shell.execute_reply": "2021-10-03T13:59:44.804667Z",
     "shell.execute_reply.started": "2021-10-03T13:59:44.757040Z"
    }
   },
   "outputs": [
    {
     "data": {
      "text/html": [
       "<div>\n",
       "<style scoped>\n",
       "    .dataframe tbody tr th:only-of-type {\n",
       "        vertical-align: middle;\n",
       "    }\n",
       "\n",
       "    .dataframe tbody tr th {\n",
       "        vertical-align: top;\n",
       "    }\n",
       "\n",
       "    .dataframe thead th {\n",
       "        text-align: right;\n",
       "    }\n",
       "</style>\n",
       "<table border=\"1\" class=\"dataframe\">\n",
       "  <thead>\n",
       "    <tr style=\"text-align: right;\">\n",
       "      <th></th>\n",
       "      <th>Sno</th>\n",
       "      <th>Date</th>\n",
       "      <th>States</th>\n",
       "      <th>ConfirmedIndianNational</th>\n",
       "      <th>ConfirmedForeignNational</th>\n",
       "      <th>Cured</th>\n",
       "      <th>Deaths</th>\n",
       "      <th>Confirmed</th>\n",
       "      <th>Active_cases</th>\n",
       "      <th>Discharge_Rate</th>\n",
       "      <th>Death_Rate</th>\n",
       "    </tr>\n",
       "  </thead>\n",
       "  <tbody>\n",
       "    <tr>\n",
       "      <th>0</th>\n",
       "      <td>1</td>\n",
       "      <td>2020-01-30</td>\n",
       "      <td>Kerala</td>\n",
       "      <td>1</td>\n",
       "      <td>0</td>\n",
       "      <td>0</td>\n",
       "      <td>0</td>\n",
       "      <td>1</td>\n",
       "      <td>1</td>\n",
       "      <td>0.0</td>\n",
       "      <td>0.0</td>\n",
       "    </tr>\n",
       "    <tr>\n",
       "      <th>1</th>\n",
       "      <td>2</td>\n",
       "      <td>2020-01-31</td>\n",
       "      <td>Kerala</td>\n",
       "      <td>1</td>\n",
       "      <td>0</td>\n",
       "      <td>0</td>\n",
       "      <td>0</td>\n",
       "      <td>1</td>\n",
       "      <td>1</td>\n",
       "      <td>0.0</td>\n",
       "      <td>0.0</td>\n",
       "    </tr>\n",
       "    <tr>\n",
       "      <th>2</th>\n",
       "      <td>3</td>\n",
       "      <td>2020-02-01</td>\n",
       "      <td>Kerala</td>\n",
       "      <td>2</td>\n",
       "      <td>0</td>\n",
       "      <td>0</td>\n",
       "      <td>0</td>\n",
       "      <td>2</td>\n",
       "      <td>2</td>\n",
       "      <td>0.0</td>\n",
       "      <td>0.0</td>\n",
       "    </tr>\n",
       "    <tr>\n",
       "      <th>3</th>\n",
       "      <td>4</td>\n",
       "      <td>2020-02-02</td>\n",
       "      <td>Kerala</td>\n",
       "      <td>3</td>\n",
       "      <td>0</td>\n",
       "      <td>0</td>\n",
       "      <td>0</td>\n",
       "      <td>3</td>\n",
       "      <td>3</td>\n",
       "      <td>0.0</td>\n",
       "      <td>0.0</td>\n",
       "    </tr>\n",
       "    <tr>\n",
       "      <th>4</th>\n",
       "      <td>5</td>\n",
       "      <td>2020-02-03</td>\n",
       "      <td>Kerala</td>\n",
       "      <td>3</td>\n",
       "      <td>0</td>\n",
       "      <td>0</td>\n",
       "      <td>0</td>\n",
       "      <td>3</td>\n",
       "      <td>3</td>\n",
       "      <td>0.0</td>\n",
       "      <td>0.0</td>\n",
       "    </tr>\n",
       "  </tbody>\n",
       "</table>\n",
       "</div>"
      ],
      "text/plain": [
       "   Sno       Date  States ConfirmedIndianNational ConfirmedForeignNational  \\\n",
       "0    1 2020-01-30  Kerala                       1                        0   \n",
       "1    2 2020-01-31  Kerala                       1                        0   \n",
       "2    3 2020-02-01  Kerala                       2                        0   \n",
       "3    4 2020-02-02  Kerala                       3                        0   \n",
       "4    5 2020-02-03  Kerala                       3                        0   \n",
       "\n",
       "   Cured  Deaths  Confirmed  Active_cases  Discharge_Rate  Death_Rate  \n",
       "0      0       0          1             1             0.0         0.0  \n",
       "1      0       0          1             1             0.0         0.0  \n",
       "2      0       0          2             2             0.0         0.0  \n",
       "3      0       0          3             3             0.0         0.0  \n",
       "4      0       0          3             3             0.0         0.0  "
      ]
     },
     "execution_count": 8,
     "metadata": {},
     "output_type": "execute_result"
    }
   ],
   "source": [
    "df['Active_cases']=df['Confirmed']-(df['Cured']+df['Deaths'])\n",
    "df['Discharge_Rate'] = np.round((df['Cured']/df['Confirmed'])*100, decimals = 4)      # create instances for 'death_rate and discharge_rate'\n",
    "df['Death_Rate'] = np.round((df['Deaths']/df['Confirmed'])*100, decimals = 4)\n",
    "df.head()"
   ]
  },
  {
   "cell_type": "code",
   "execution_count": 9,
   "metadata": {
    "execution": {
     "iopub.execute_input": "2021-10-03T13:59:44.808784Z",
     "iopub.status.busy": "2021-10-03T13:59:44.808140Z",
     "iopub.status.idle": "2021-10-03T13:59:44.815686Z",
     "shell.execute_reply": "2021-10-03T13:59:44.814781Z",
     "shell.execute_reply.started": "2021-10-03T13:59:44.808734Z"
    }
   },
   "outputs": [],
   "source": [
    "#Current date from the record\n",
    "current = df[df.Date == '2021-07-06']"
   ]
  },
  {
   "cell_type": "code",
   "execution_count": 10,
   "metadata": {
    "execution": {
     "iopub.execute_input": "2021-10-03T13:59:44.817732Z",
     "iopub.status.busy": "2021-10-03T13:59:44.817208Z",
     "iopub.status.idle": "2021-10-03T13:59:44.840172Z",
     "shell.execute_reply": "2021-10-03T13:59:44.839511Z",
     "shell.execute_reply.started": "2021-10-03T13:59:44.817696Z"
    }
   },
   "outputs": [
    {
     "data": {
      "text/html": [
       "<div>\n",
       "<style scoped>\n",
       "    .dataframe tbody tr th:only-of-type {\n",
       "        vertical-align: middle;\n",
       "    }\n",
       "\n",
       "    .dataframe tbody tr th {\n",
       "        vertical-align: top;\n",
       "    }\n",
       "\n",
       "    .dataframe thead th {\n",
       "        text-align: right;\n",
       "    }\n",
       "</style>\n",
       "<table border=\"1\" class=\"dataframe\">\n",
       "  <thead>\n",
       "    <tr style=\"text-align: right;\">\n",
       "      <th></th>\n",
       "      <th>Sno</th>\n",
       "      <th>Date</th>\n",
       "      <th>States</th>\n",
       "      <th>ConfirmedIndianNational</th>\n",
       "      <th>ConfirmedForeignNational</th>\n",
       "      <th>Cured</th>\n",
       "      <th>Deaths</th>\n",
       "      <th>Confirmed</th>\n",
       "      <th>Active_cases</th>\n",
       "      <th>Discharge_Rate</th>\n",
       "      <th>Death_Rate</th>\n",
       "    </tr>\n",
       "  </thead>\n",
       "  <tbody>\n",
       "    <tr>\n",
       "      <th>18105</th>\n",
       "      <td>18106</td>\n",
       "      <td>2021-08-11</td>\n",
       "      <td>Telangana</td>\n",
       "      <td>-</td>\n",
       "      <td>-</td>\n",
       "      <td>638410</td>\n",
       "      <td>3831</td>\n",
       "      <td>650353</td>\n",
       "      <td>8112</td>\n",
       "      <td>98.1636</td>\n",
       "      <td>0.5891</td>\n",
       "    </tr>\n",
       "    <tr>\n",
       "      <th>18106</th>\n",
       "      <td>18107</td>\n",
       "      <td>2021-08-11</td>\n",
       "      <td>Tripura</td>\n",
       "      <td>-</td>\n",
       "      <td>-</td>\n",
       "      <td>77811</td>\n",
       "      <td>773</td>\n",
       "      <td>80660</td>\n",
       "      <td>2076</td>\n",
       "      <td>96.4679</td>\n",
       "      <td>0.9583</td>\n",
       "    </tr>\n",
       "    <tr>\n",
       "      <th>18107</th>\n",
       "      <td>18108</td>\n",
       "      <td>2021-08-11</td>\n",
       "      <td>Uttarakhand</td>\n",
       "      <td>-</td>\n",
       "      <td>-</td>\n",
       "      <td>334650</td>\n",
       "      <td>7368</td>\n",
       "      <td>342462</td>\n",
       "      <td>444</td>\n",
       "      <td>97.7189</td>\n",
       "      <td>2.1515</td>\n",
       "    </tr>\n",
       "    <tr>\n",
       "      <th>18108</th>\n",
       "      <td>18109</td>\n",
       "      <td>2021-08-11</td>\n",
       "      <td>Uttar Pradesh</td>\n",
       "      <td>-</td>\n",
       "      <td>-</td>\n",
       "      <td>1685492</td>\n",
       "      <td>22775</td>\n",
       "      <td>1708812</td>\n",
       "      <td>545</td>\n",
       "      <td>98.6353</td>\n",
       "      <td>1.3328</td>\n",
       "    </tr>\n",
       "    <tr>\n",
       "      <th>18109</th>\n",
       "      <td>18110</td>\n",
       "      <td>2021-08-11</td>\n",
       "      <td>West Bengal</td>\n",
       "      <td>-</td>\n",
       "      <td>-</td>\n",
       "      <td>1506532</td>\n",
       "      <td>18252</td>\n",
       "      <td>1534999</td>\n",
       "      <td>10215</td>\n",
       "      <td>98.1455</td>\n",
       "      <td>1.1891</td>\n",
       "    </tr>\n",
       "  </tbody>\n",
       "</table>\n",
       "</div>"
      ],
      "text/plain": [
       "         Sno       Date         States ConfirmedIndianNational  \\\n",
       "18105  18106 2021-08-11      Telangana                       -   \n",
       "18106  18107 2021-08-11        Tripura                       -   \n",
       "18107  18108 2021-08-11    Uttarakhand                       -   \n",
       "18108  18109 2021-08-11  Uttar Pradesh                       -   \n",
       "18109  18110 2021-08-11    West Bengal                       -   \n",
       "\n",
       "      ConfirmedForeignNational    Cured  Deaths  Confirmed  Active_cases  \\\n",
       "18105                        -   638410    3831     650353          8112   \n",
       "18106                        -    77811     773      80660          2076   \n",
       "18107                        -   334650    7368     342462           444   \n",
       "18108                        -  1685492   22775    1708812           545   \n",
       "18109                        -  1506532   18252    1534999         10215   \n",
       "\n",
       "       Discharge_Rate  Death_Rate  \n",
       "18105         98.1636      0.5891  \n",
       "18106         96.4679      0.9583  \n",
       "18107         97.7189      2.1515  \n",
       "18108         98.6353      1.3328  \n",
       "18109         98.1455      1.1891  "
      ]
     },
     "execution_count": 10,
     "metadata": {},
     "output_type": "execute_result"
    }
   ],
   "source": [
    "df.tail()"
   ]
  },
  {
   "cell_type": "code",
   "execution_count": 11,
   "metadata": {
    "execution": {
     "iopub.execute_input": "2021-10-03T13:59:44.841694Z",
     "iopub.status.busy": "2021-10-03T13:59:44.841375Z",
     "iopub.status.idle": "2021-10-03T13:59:44.875271Z",
     "shell.execute_reply": "2021-10-03T13:59:44.874139Z",
     "shell.execute_reply.started": "2021-10-03T13:59:44.841666Z"
    }
   },
   "outputs": [
    {
     "data": {
      "text/html": [
       "<div>\n",
       "<style scoped>\n",
       "    .dataframe tbody tr th:only-of-type {\n",
       "        vertical-align: middle;\n",
       "    }\n",
       "\n",
       "    .dataframe tbody tr th {\n",
       "        vertical-align: top;\n",
       "    }\n",
       "\n",
       "    .dataframe thead th {\n",
       "        text-align: right;\n",
       "    }\n",
       "</style>\n",
       "<table border=\"1\" class=\"dataframe\">\n",
       "  <thead>\n",
       "    <tr style=\"text-align: right;\">\n",
       "      <th></th>\n",
       "      <th>Sno</th>\n",
       "      <th>Date</th>\n",
       "      <th>States</th>\n",
       "      <th>ConfirmedIndianNational</th>\n",
       "      <th>ConfirmedForeignNational</th>\n",
       "      <th>Cured</th>\n",
       "      <th>Deaths</th>\n",
       "      <th>Confirmed</th>\n",
       "      <th>Active_cases</th>\n",
       "      <th>Discharge_Rate</th>\n",
       "      <th>Death_Rate</th>\n",
       "    </tr>\n",
       "  </thead>\n",
       "  <tbody>\n",
       "    <tr>\n",
       "      <th>18105</th>\n",
       "      <td>18106</td>\n",
       "      <td>2021-08-11</td>\n",
       "      <td>Telangana</td>\n",
       "      <td>-</td>\n",
       "      <td>-</td>\n",
       "      <td>638410</td>\n",
       "      <td>3831</td>\n",
       "      <td>650353</td>\n",
       "      <td>8112</td>\n",
       "      <td>98.1636</td>\n",
       "      <td>0.5891</td>\n",
       "    </tr>\n",
       "    <tr>\n",
       "      <th>18106</th>\n",
       "      <td>18107</td>\n",
       "      <td>2021-08-11</td>\n",
       "      <td>Tripura</td>\n",
       "      <td>-</td>\n",
       "      <td>-</td>\n",
       "      <td>77811</td>\n",
       "      <td>773</td>\n",
       "      <td>80660</td>\n",
       "      <td>2076</td>\n",
       "      <td>96.4679</td>\n",
       "      <td>0.9583</td>\n",
       "    </tr>\n",
       "    <tr>\n",
       "      <th>18107</th>\n",
       "      <td>18108</td>\n",
       "      <td>2021-08-11</td>\n",
       "      <td>Uttarakhand</td>\n",
       "      <td>-</td>\n",
       "      <td>-</td>\n",
       "      <td>334650</td>\n",
       "      <td>7368</td>\n",
       "      <td>342462</td>\n",
       "      <td>444</td>\n",
       "      <td>97.7189</td>\n",
       "      <td>2.1515</td>\n",
       "    </tr>\n",
       "    <tr>\n",
       "      <th>18108</th>\n",
       "      <td>18109</td>\n",
       "      <td>2021-08-11</td>\n",
       "      <td>Uttar Pradesh</td>\n",
       "      <td>-</td>\n",
       "      <td>-</td>\n",
       "      <td>1685492</td>\n",
       "      <td>22775</td>\n",
       "      <td>1708812</td>\n",
       "      <td>545</td>\n",
       "      <td>98.6353</td>\n",
       "      <td>1.3328</td>\n",
       "    </tr>\n",
       "    <tr>\n",
       "      <th>18109</th>\n",
       "      <td>18110</td>\n",
       "      <td>2021-08-11</td>\n",
       "      <td>West Bengal</td>\n",
       "      <td>-</td>\n",
       "      <td>-</td>\n",
       "      <td>1506532</td>\n",
       "      <td>18252</td>\n",
       "      <td>1534999</td>\n",
       "      <td>10215</td>\n",
       "      <td>98.1455</td>\n",
       "      <td>1.1891</td>\n",
       "    </tr>\n",
       "  </tbody>\n",
       "</table>\n",
       "</div>"
      ],
      "text/plain": [
       "         Sno       Date         States ConfirmedIndianNational  \\\n",
       "18105  18106 2021-08-11      Telangana                       -   \n",
       "18106  18107 2021-08-11        Tripura                       -   \n",
       "18107  18108 2021-08-11    Uttarakhand                       -   \n",
       "18108  18109 2021-08-11  Uttar Pradesh                       -   \n",
       "18109  18110 2021-08-11    West Bengal                       -   \n",
       "\n",
       "      ConfirmedForeignNational    Cured  Deaths  Confirmed  Active_cases  \\\n",
       "18105                        -   638410    3831     650353          8112   \n",
       "18106                        -    77811     773      80660          2076   \n",
       "18107                        -   334650    7368     342462           444   \n",
       "18108                        -  1685492   22775    1708812           545   \n",
       "18109                        -  1506532   18252    1534999         10215   \n",
       "\n",
       "       Discharge_Rate  Death_Rate  \n",
       "18105         98.1636      0.5891  \n",
       "18106         96.4679      0.9583  \n",
       "18107         97.7189      2.1515  \n",
       "18108         98.6353      1.3328  \n",
       "18109         98.1455      1.1891  "
      ]
     },
     "execution_count": 11,
     "metadata": {},
     "output_type": "execute_result"
    }
   ],
   "source": [
    "df['Date']= pd.to_datetime(df['Date'])          # Date is converted to DateTime format.\n",
    "df.tail()"
   ]
  },
  {
   "cell_type": "code",
   "execution_count": 12,
   "metadata": {
    "execution": {
     "iopub.execute_input": "2021-10-03T13:59:44.876917Z",
     "iopub.status.busy": "2021-10-03T13:59:44.876641Z",
     "iopub.status.idle": "2021-10-03T13:59:45.190612Z",
     "shell.execute_reply": "2021-10-03T13:59:45.189460Z",
     "shell.execute_reply.started": "2021-10-03T13:59:44.876888Z"
    }
   },
   "outputs": [
    {
     "ename": "ModuleNotFoundError",
     "evalue": "No module named 'fbprophet'",
     "output_type": "error",
     "traceback": [
      "\u001b[1;31m---------------------------------------------------------------------------\u001b[0m",
      "\u001b[1;31mModuleNotFoundError\u001b[0m                       Traceback (most recent call last)",
      "\u001b[1;32m<ipython-input-12-ae5ae6bfe350>\u001b[0m in \u001b[0;36m<module>\u001b[1;34m\u001b[0m\n\u001b[1;32m----> 1\u001b[1;33m \u001b[1;32mfrom\u001b[0m \u001b[0mfbprophet\u001b[0m \u001b[1;32mimport\u001b[0m \u001b[0mProphet\u001b[0m\u001b[1;33m\u001b[0m\u001b[1;33m\u001b[0m\u001b[0m\n\u001b[0m\u001b[0;32m      2\u001b[0m \u001b[0mactive\u001b[0m \u001b[1;33m=\u001b[0m \u001b[0mdf\u001b[0m\u001b[1;33m.\u001b[0m\u001b[0mgroupby\u001b[0m\u001b[1;33m(\u001b[0m\u001b[1;33m[\u001b[0m\u001b[1;34m'States'\u001b[0m\u001b[1;33m,\u001b[0m \u001b[1;34m'Date'\u001b[0m\u001b[1;33m]\u001b[0m\u001b[1;33m)\u001b[0m\u001b[1;33m.\u001b[0m\u001b[0msum\u001b[0m\u001b[1;33m(\u001b[0m\u001b[1;33m)\u001b[0m\u001b[1;33m[\u001b[0m\u001b[1;34m'Active_cases'\u001b[0m\u001b[1;33m]\u001b[0m\u001b[1;33m.\u001b[0m\u001b[0mreset_index\u001b[0m\u001b[1;33m(\u001b[0m\u001b[1;33m)\u001b[0m\u001b[1;33m\u001b[0m\u001b[1;33m\u001b[0m\u001b[0m\n\u001b[0;32m      3\u001b[0m \u001b[0mactive\u001b[0m\u001b[1;33m.\u001b[0m\u001b[0mtail\u001b[0m\u001b[1;33m(\u001b[0m\u001b[1;33m)\u001b[0m\u001b[1;33m\u001b[0m\u001b[1;33m\u001b[0m\u001b[0m\n",
      "\u001b[1;31mModuleNotFoundError\u001b[0m: No module named 'fbprophet'"
     ]
    }
   ],
   "source": [
    "from fbprophet import Prophet\n",
    "active = df.groupby(['States', 'Date']).sum()['Active_cases'].reset_index()\n",
    "active.tail()"
   ]
  },
  {
   "cell_type": "code",
   "execution_count": null,
   "metadata": {
    "execution": {
     "iopub.execute_input": "2021-10-03T13:59:45.192477Z",
     "iopub.status.busy": "2021-10-03T13:59:45.192064Z",
     "iopub.status.idle": "2021-10-03T13:59:45.326655Z",
     "shell.execute_reply": "2021-10-03T13:59:45.325748Z",
     "shell.execute_reply.started": "2021-10-03T13:59:45.192435Z"
    }
   },
   "outputs": [],
   "source": [
    "active.columns = ['States','ds', 'y']\n",
    "active['ds'] = pd.to_datetime(active['ds'])"
   ]
  },
  {
   "cell_type": "code",
   "execution_count": null,
   "metadata": {
    "execution": {
     "iopub.execute_input": "2021-10-03T13:59:45.328275Z",
     "iopub.status.busy": "2021-10-03T13:59:45.327809Z",
     "iopub.status.idle": "2021-10-03T13:59:45.409135Z",
     "shell.execute_reply": "2021-10-03T13:59:45.408350Z",
     "shell.execute_reply.started": "2021-10-03T13:59:45.328208Z"
    }
   },
   "outputs": [],
   "source": [
    "all_states = active['States'].unique()\n",
    "for state in all_states:\n",
    "    globals()[state] = active[active['States']==state]"
   ]
  },
  {
   "cell_type": "code",
   "execution_count": null,
   "metadata": {
    "execution": {
     "iopub.execute_input": "2021-10-03T13:59:45.410474Z",
     "iopub.status.busy": "2021-10-03T13:59:45.410084Z",
     "iopub.status.idle": "2021-10-03T14:00:03.546278Z",
     "shell.execute_reply": "2021-10-03T14:00:03.544996Z",
     "shell.execute_reply.started": "2021-10-03T13:59:45.410444Z"
    }
   },
   "outputs": [],
   "source": [
    "enter_state = input(\"Enter the State: \")\n",
    "enter_state"
   ]
  },
  {
   "cell_type": "code",
   "execution_count": null,
   "metadata": {
    "execution": {
     "iopub.execute_input": "2021-10-03T14:00:03.548446Z",
     "iopub.status.busy": "2021-10-03T14:00:03.548027Z",
     "iopub.status.idle": "2021-10-03T14:00:04.884311Z",
     "shell.execute_reply": "2021-10-03T14:00:04.883299Z",
     "shell.execute_reply.started": "2021-10-03T14:00:03.548404Z"
    }
   },
   "outputs": [],
   "source": [
    "m = Prophet(interval_width=0.95)\n",
    "m.fit(globals()[enter_state])\n",
    "future = m.make_future_dataframe(periods=53)       #Making future prediction for next 60 days\n",
    "future.tail(10)"
   ]
  },
  {
   "cell_type": "code",
   "execution_count": null,
   "metadata": {
    "execution": {
     "iopub.execute_input": "2021-10-03T14:00:04.885994Z",
     "iopub.status.busy": "2021-10-03T14:00:04.885706Z",
     "iopub.status.idle": "2021-10-03T14:00:06.890242Z",
     "shell.execute_reply": "2021-10-03T14:00:06.889244Z",
     "shell.execute_reply.started": "2021-10-03T14:00:04.885966Z"
    }
   },
   "outputs": [],
   "source": [
    "forecast = m.predict(future)\n",
    "forecast[['ds','yhat','yhat_lower','yhat_upper']].tail()"
   ]
  },
  {
   "cell_type": "code",
   "execution_count": null,
   "metadata": {
    "execution": {
     "iopub.execute_input": "2021-10-03T14:00:06.891872Z",
     "iopub.status.busy": "2021-10-03T14:00:06.891573Z",
     "iopub.status.idle": "2021-10-03T14:00:06.899804Z",
     "shell.execute_reply": "2021-10-03T14:00:06.898569Z",
     "shell.execute_reply.started": "2021-10-03T14:00:06.891840Z"
    }
   },
   "outputs": [],
   "source": [
    "last_active_pred = forecast[['yhat']].iloc[-1]\n",
    "last_active_pred=int(last_active_pred)\n",
    "print(\"Last active \", last_active_pred)"
   ]
  },
  {
   "cell_type": "code",
   "execution_count": null,
   "metadata": {
    "execution": {
     "iopub.execute_input": "2021-10-03T14:00:06.901952Z",
     "iopub.status.busy": "2021-10-03T14:00:06.901609Z",
     "iopub.status.idle": "2021-10-03T14:00:07.282503Z",
     "shell.execute_reply": "2021-10-03T14:00:07.281249Z",
     "shell.execute_reply.started": "2021-10-03T14:00:06.901891Z"
    }
   },
   "outputs": [],
   "source": [
    "active_forecast_plot = m.plot(forecast)"
   ]
  },
  {
   "cell_type": "markdown",
   "metadata": {},
   "source": [
    "# RISK CALCULATED"
   ]
  },
  {
   "cell_type": "code",
   "execution_count": null,
   "metadata": {
    "execution": {
     "iopub.execute_input": "2021-10-03T14:00:07.284680Z",
     "iopub.status.busy": "2021-10-03T14:00:07.284092Z",
     "iopub.status.idle": "2021-10-03T14:00:07.291745Z",
     "shell.execute_reply": "2021-10-03T14:00:07.290777Z",
     "shell.execute_reply.started": "2021-10-03T14:00:07.284635Z"
    }
   },
   "outputs": [],
   "source": [
    "risk=0\n",
    "globals()[f\"mean_{enter_state}\"] = np.mean(globals()[enter_state].y)\n",
    "if last_active_pred*0.3 < globals()[f\"mean_{enter_state}\"]:\n",
    "    risk=0\n",
    "elif last_active_pred*0.6 < globals()[f\"mean_{enter_state}\"]:\n",
    "    risk=1\n",
    "else :\n",
    "    risk=2"
   ]
  },
  {
   "cell_type": "code",
   "execution_count": null,
   "metadata": {
    "execution": {
     "iopub.execute_input": "2021-10-03T14:00:07.293683Z",
     "iopub.status.busy": "2021-10-03T14:00:07.293110Z",
     "iopub.status.idle": "2021-10-03T14:00:07.305706Z",
     "shell.execute_reply": "2021-10-03T14:00:07.304375Z",
     "shell.execute_reply.started": "2021-10-03T14:00:07.293639Z"
    }
   },
   "outputs": [],
   "source": [
    "risk"
   ]
  }
 ],
 "metadata": {
  "kernelspec": {
   "display_name": "Python 3",
   "language": "python",
   "name": "python3"
  },
  "language_info": {
   "codemirror_mode": {
    "name": "ipython",
    "version": 3
   },
   "file_extension": ".py",
   "mimetype": "text/x-python",
   "name": "python",
   "nbconvert_exporter": "python",
   "pygments_lexer": "ipython3",
   "version": "3.9.2"
  }
 },
 "nbformat": 4,
 "nbformat_minor": 4
}
